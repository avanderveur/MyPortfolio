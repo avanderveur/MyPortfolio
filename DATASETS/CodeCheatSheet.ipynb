{
 "cells": [
  {
   "cell_type": "markdown",
   "metadata": {},
   "source": [
    "\n",
    "# Programming and Data Science Snippets\n",
    "\n",
    "This Jupyter Notebook serves as a reference for important code snippets in various programming languages, with a focus on data science applications. Below are categorized examples of common tasks and techniques used in programming, data manipulation, visualization, and machine learning.\n",
    "\n",
    "## Table of Contents\n",
    "\n",
    "1. [Python Basics](#python-basics)\n",
    "   - [Hello, World!](#hello-world)\n",
    "   - [Variables and Data Types](#variables-and-data-types)\n",
    "   - [Control Flow (if-else)](#control-flow-if-else)\n",
    "   - [Loops (for and while)](#loops-for-and-while)\n",
    "   - [Functions](#functions)\n",
    "   - [File Handling](#file-handling)\n",
    "   - [Exception Handling](#exception-handling)\n",
    "   - [List Comprehensions](#list-comprehensions)\n",
    "   - [Classes and Objects](#classes-and-objects)\n",
    "\n",
    "2. [Data Science with Python](#data-science-with-python)\n",
    "   - [Data Manipulation with Pandas](#data-manipulation-with-pandas)\n",
    "   - [Data Visualization with Matplotlib](#data-visualization-with-matplotlib)\n",
    "   - [Data Visualization with Seaborn](#data-visualization-with-seaborn)\n",
    "   - [Loading and Handling Dates with Pandas](#loading-and-handling-dates-with-pandas)\n",
    "   - [Machine Learning with Scikit-Learn](#machine-learning-with-scikit-learn)\n",
    "   - [Working with NumPy Arrays](#working-with-numpy-arrays)"
   ]
  },
  {
   "cell_type": "code",
   "execution_count": null,
   "metadata": {},
   "outputs": [],
   "source": [
    "1. Hello, World!"
   ]
  },
  {
   "cell_type": "code",
   "execution_count": null,
   "metadata": {},
   "outputs": [],
   "source": [
    "print(\"Hello, World!\")\n"
   ]
  },
  {
   "cell_type": "code",
   "execution_count": null,
   "metadata": {},
   "outputs": [],
   "source": [
    "2. Variables and Data Types\n"
   ]
  },
  {
   "cell_type": "markdown",
   "metadata": {},
   "source": [
    "# Variable assignment\n"
   ]
  },
  {
   "cell_type": "code",
   "execution_count": null,
   "metadata": {},
   "outputs": [],
   "source": [
    "x = 10\n"
   ]
  },
  {
   "cell_type": "markdown",
   "metadata": {},
   "source": [
    "# Data types\n"
   ]
  },
  {
   "cell_type": "code",
   "execution_count": null,
   "metadata": {},
   "outputs": [],
   "source": [
    "integer_var = 5\n",
    "float_var = 3.14\n",
    "string_var = \"Hello, Python!\""
   ]
  },
  {
   "cell_type": "markdown",
   "metadata": {},
   "source": [
    "# Lists\n"
   ]
  },
  {
   "cell_type": "code",
   "execution_count": null,
   "metadata": {},
   "outputs": [],
   "source": [
    "my_list = [1, 2, 3, 4, 5]\n"
   ]
  },
  {
   "cell_type": "markdown",
   "metadata": {},
   "source": [
    "# Dictionaries\n"
   ]
  },
  {
   "cell_type": "code",
   "execution_count": null,
   "metadata": {},
   "outputs": [],
   "source": [
    "my_dict = {\"key\": \"value\", \"name\": \"John\"}"
   ]
  },
  {
   "cell_type": "markdown",
   "metadata": {},
   "source": [
    "3. Control Flow (if-else)\n"
   ]
  },
  {
   "cell_type": "markdown",
   "metadata": {},
   "source": [
    "# if-else statement\n"
   ]
  },
  {
   "cell_type": "code",
   "execution_count": null,
   "metadata": {},
   "outputs": [],
   "source": [
    "x = 10\n",
    "if x > 5:\n",
    "    print(\"x is greater than 5\")\n",
    "else:\n",
    "    print(\"x is not greater than 5\")"
   ]
  },
  {
   "cell_type": "markdown",
   "metadata": {},
   "source": [
    "4. Loops (for and while)\n"
   ]
  },
  {
   "cell_type": "markdown",
   "metadata": {},
   "source": [
    "# for loop\n"
   ]
  },
  {
   "cell_type": "code",
   "execution_count": null,
   "metadata": {},
   "outputs": [],
   "source": [
    "for i in range(5):\n",
    "    print(i)\n",
    "\n"
   ]
  },
  {
   "cell_type": "markdown",
   "metadata": {},
   "source": [
    "# while loop"
   ]
  },
  {
   "cell_type": "markdown",
   "metadata": {},
   "source": [
    "counter = 0\n",
    "while counter < 5:\n",
    "    print(counter)\n",
    "    counter += 1"
   ]
  },
  {
   "cell_type": "markdown",
   "metadata": {},
   "source": [
    "5. Functions\n"
   ]
  },
  {
   "cell_type": "markdown",
   "metadata": {},
   "source": [
    "# Function definition\n"
   ]
  },
  {
   "cell_type": "code",
   "execution_count": null,
   "metadata": {},
   "outputs": [],
   "source": [
    "def greet(name):\n",
    "    return f\"Hello, {name}!\""
   ]
  },
  {
   "cell_type": "markdown",
   "metadata": {},
   "source": [
    "# Function call\n"
   ]
  },
  {
   "cell_type": "code",
   "execution_count": null,
   "metadata": {},
   "outputs": [],
   "source": [
    "result = greet(\"Alice\")\n",
    "print(result)"
   ]
  },
  {
   "cell_type": "markdown",
   "metadata": {},
   "source": [
    "6. File Handling\n"
   ]
  },
  {
   "cell_type": "markdown",
   "metadata": {},
   "source": [
    "# Writing to a file\n"
   ]
  },
  {
   "cell_type": "code",
   "execution_count": null,
   "metadata": {},
   "outputs": [],
   "source": [
    "with open(\"example.txt\", \"w\") as file:\n",
    "    file.write(\"Hello, File!\")\n"
   ]
  },
  {
   "cell_type": "markdown",
   "metadata": {},
   "source": [
    "# Reading from a file\n"
   ]
  },
  {
   "cell_type": "code",
   "execution_count": null,
   "metadata": {},
   "outputs": [],
   "source": [
    "with open(\"example.txt\", \"r\") as file:\n",
    "    content = file.read()\n",
    "    print(content)"
   ]
  },
  {
   "cell_type": "markdown",
   "metadata": {},
   "source": [
    "7. Exception Handling\n"
   ]
  },
  {
   "cell_type": "markdown",
   "metadata": {},
   "source": [
    "# try-except block\n"
   ]
  },
  {
   "cell_type": "code",
   "execution_count": null,
   "metadata": {},
   "outputs": [],
   "source": [
    "try:\n",
    "    result = 10 / 0\n",
    "except ZeroDivisionError:\n",
    "    print(\"Cannot divide by zero!\")"
   ]
  },
  {
   "cell_type": "markdown",
   "metadata": {},
   "source": [
    "8. List Comprehensions\n"
   ]
  },
  {
   "cell_type": "code",
   "execution_count": null,
   "metadata": {},
   "outputs": [],
   "source": [
    "squares = [x**2 for x in range(1, 6)]\n",
    "print(squares)"
   ]
  },
  {
   "cell_type": "markdown",
   "metadata": {},
   "source": [
    "9. Classes and Objects\n"
   ]
  },
  {
   "cell_type": "markdown",
   "metadata": {},
   "source": [
    "# Class definition\n"
   ]
  },
  {
   "cell_type": "code",
   "execution_count": null,
   "metadata": {},
   "outputs": [],
   "source": [
    "class Dog:\n",
    "    def __init__(self, name, age):\n",
    "        self.name = name\n",
    "        self.age = age\n",
    "\n",
    "    def bark(self):\n",
    "        print(\"Woof!\")"
   ]
  },
  {
   "cell_type": "markdown",
   "metadata": {},
   "source": [
    "# Object instantiation\n"
   ]
  },
  {
   "cell_type": "code",
   "execution_count": null,
   "metadata": {},
   "outputs": [],
   "source": [
    "my_dog = Dog(\"Buddy\", 3)\n",
    "my_dog.bark()"
   ]
  },
  {
   "cell_type": "markdown",
   "metadata": {},
   "source": [
    "DATA & PYTHON"
   ]
  },
  {
   "cell_type": "markdown",
   "metadata": {},
   "source": [
    "1. Data Manipulation with Pandas\n"
   ]
  },
  {
   "cell_type": "code",
   "execution_count": null,
   "metadata": {},
   "outputs": [],
   "source": [
    "import pandas as pd\n",
    "\n",
    "# Creating a DataFrame\n",
    "data = {'Name': ['Alice', 'Bob', 'Charlie'],\n",
    "        'Age': [25, 30, 35],\n",
    "        'City': ['New York', 'San Francisco', 'Los Angeles']}\n",
    "df = pd.DataFrame(data)\n",
    "\n",
    "# Displaying the DataFrame\n",
    "print(df)\n",
    "\n",
    "# Selecting columns\n",
    "ages = df['Age']\n",
    "\n",
    "# Filtering data\n",
    "filtered_data = df[df['Age'] > 30]\n",
    "\n",
    "# Grouping data\n",
    "grouped_data = df.groupby('City').mean()"
   ]
  },
  {
   "cell_type": "markdown",
   "metadata": {},
   "source": [
    "2. Data Visualization with Matplotlib\n"
   ]
  },
  {
   "cell_type": "code",
   "execution_count": null,
   "metadata": {},
   "outputs": [],
   "source": [
    "import matplotlib.pyplot as plt\n",
    "\n",
    "# Line plot\n",
    "plt.plot([1, 2, 3, 4], [10, 15, 25, 30])\n",
    "plt.xlabel('X-axis')\n",
    "plt.ylabel('Y-axis')\n",
    "plt.title('Simple Line Plot')\n",
    "plt.show()\n",
    "\n",
    "# Scatter plot\n",
    "plt.scatter(df['Age'], df['City'])\n",
    "plt.xlabel('Age')\n",
    "plt.ylabel('City')\n",
    "plt.title('Scatter Plot')\n",
    "plt.show()\n"
   ]
  },
  {
   "cell_type": "markdown",
   "metadata": {},
   "source": [
    "3. Data Visualization with Seaborn\n"
   ]
  },
  {
   "cell_type": "code",
   "execution_count": null,
   "metadata": {},
   "outputs": [],
   "source": [
    "import seaborn as sns\n",
    "\n",
    "# Pair plot for exploring relationships in a DataFrame\n",
    "sns.pairplot(df)\n",
    "plt.show()\n",
    "\n",
    "# Heatmap for visualizing correlations\n",
    "correlation_matrix = df.corr()\n",
    "sns.heatmap(correlation_matrix, annot=True, cmap='viridis')\n",
    "plt.show()\n"
   ]
  },
  {
   "cell_type": "markdown",
   "metadata": {},
   "source": [
    "4. Loading and Handling Dates with Pandas\n"
   ]
  },
  {
   "cell_type": "code",
   "execution_count": null,
   "metadata": {},
   "outputs": [],
   "source": [
    "# Loading a CSV file with date columns\n",
    "date_df = pd.read_csv('data.csv', parse_dates=['date_column'])\n",
    "\n",
    "# Extracting components of a date\n",
    "date_df['year'] = date_df['date_column'].dt.year\n",
    "date_df['month'] = date_df['date_column'].dt.month\n",
    "date_df['day'] = date_df['date_column'].dt.day\n"
   ]
  },
  {
   "cell_type": "markdown",
   "metadata": {},
   "source": [
    "5. Machine Learning with Scikit-Learn\n"
   ]
  },
  {
   "cell_type": "code",
   "execution_count": null,
   "metadata": {},
   "outputs": [],
   "source": [
    "from sklearn.model_selection import train_test_split\n",
    "from sklearn.linear_model import LinearRegression\n",
    "from sklearn.metrics import mean_squared_error\n",
    "\n",
    "# Splitting data into training and testing sets\n",
    "X_train, X_test, y_train, y_test = train_test_split(X, y, test_size=0.2, random_state=42)\n",
    "\n",
    "# Creating and training a linear regression model\n",
    "model = LinearRegression()\n",
    "model.fit(X_train, y_train)\n",
    "\n",
    "# Making predictions\n",
    "predictions = model.predict(X_test)\n",
    "\n",
    "# Evaluating the model\n",
    "mse = mean_squared_error(y_test, predictions)\n",
    "print(f'Mean Squared Error: {mse}')\n"
   ]
  },
  {
   "cell_type": "markdown",
   "metadata": {},
   "source": [
    "6. Working with NumPy Arrays\n"
   ]
  },
  {
   "cell_type": "code",
   "execution_count": null,
   "metadata": {},
   "outputs": [],
   "source": [
    "import numpy as np\n",
    "\n",
    "# Creating a NumPy array\n",
    "arr = np.array([1, 2, 3, 4, 5])\n",
    "\n",
    "# Performing operations on arrays\n",
    "arr_squared = np.square(arr)\n",
    "arr_sum = np.sum(arr)\n"
   ]
  },
  {
   "cell_type": "markdown",
   "metadata": {},
   "source": [
    "7. EDA with Pandas"
   ]
  },
  {
   "cell_type": "code",
   "execution_count": null,
   "metadata": {},
   "outputs": [],
   "source": [
    "# Displaying basic statistics of the DataFrame\n",
    "summary_statistics = df.describe()\n",
    "\n",
    "# Counting missing values in each column\n",
    "missing_values = df.isnull().sum()\n",
    "\n",
    "# Sorting and filtering data\n",
    "sorted_data = df.sort_values(by='Age', ascending=False)\n",
    "filtered_data = df[df['City'].isin(['New York', 'San Francisco'])]\n",
    "\n",
    "# Applying a function to a column\n",
    "df['Age_squared'] = df['Age'].apply(lambda x: x**2)\n"
   ]
  },
  {
   "cell_type": "markdown",
   "metadata": {},
   "source": [
    "8. Data Cleaning and Preprocessing\n"
   ]
  },
  {
   "cell_type": "code",
   "execution_count": null,
   "metadata": {},
   "outputs": [],
   "source": [
    "# Handling missing values (filling with mean)\n",
    "df['Age'].fillna(df['Age'].mean(), inplace=True)\n",
    "\n",
    "# Dropping duplicate rows\n",
    "df.drop_duplicates(inplace=True)\n",
    "\n",
    "# One-hot encoding categorical variables\n",
    "df_encoded = pd.get_dummies(df, columns=['City'], prefix='City')\n"
   ]
  },
  {
   "cell_type": "markdown",
   "metadata": {},
   "source": [
    "9. Data Visualization with Plotly\n"
   ]
  },
  {
   "cell_type": "code",
   "execution_count": null,
   "metadata": {},
   "outputs": [],
   "source": [
    "import plotly.express as px\n",
    "\n",
    "# Scatter plot with Plotly Express\n",
    "fig = px.scatter(df, x='Age', y='City', color='Name', size='Age', title='Scatter Plot with Plotly')\n",
    "fig.show()\n"
   ]
  },
  {
   "cell_type": "markdown",
   "metadata": {},
   "source": [
    "10. Time Series Analysis with Pandas\n"
   ]
  },
  {
   "cell_type": "code",
   "execution_count": null,
   "metadata": {},
   "outputs": [],
   "source": [
    "# Setting the DataFrame index to a datetime column\n",
    "date_df.set_index('date_column', inplace=True)\n",
    "\n",
    "# Resampling time series data\n",
    "monthly_resampled = date_df.resample('M').mean()\n",
    "\n",
    "# Plotting time series data\n",
    "date_df.plot(title='Time Series Data')\n"
   ]
  },
  {
   "cell_type": "markdown",
   "metadata": {},
   "source": [
    "11. Working with Large Datasets using Dask\n"
   ]
  },
  {
   "cell_type": "code",
   "execution_count": null,
   "metadata": {},
   "outputs": [],
   "source": [
    "import dask.dataframe as dd\n",
    "\n",
    "# Reading a large CSV file with Dask\n",
    "dask_df = dd.read_csv('large_data.csv')\n",
    "\n",
    "# Performing computations on a Dask DataFrame\n",
    "mean_age = dask_df['Age'].mean().compute()\n"
   ]
  },
  {
   "cell_type": "markdown",
   "metadata": {},
   "source": [
    "12. Statistical Analysis with SciPy\n"
   ]
  },
  {
   "cell_type": "code",
   "execution_count": null,
   "metadata": {},
   "outputs": [],
   "source": [
    "import scipy.stats as stats\n",
    "\n",
    "# Perform t-test or other statistical tests\n",
    "t_stat, p_value = stats.ttest_ind(df['Group_A'], df['Group_B'])\n"
   ]
  },
  {
   "cell_type": "markdown",
   "metadata": {},
   "source": [
    "13. Feature Scaling and Normalization\n"
   ]
  },
  {
   "cell_type": "code",
   "execution_count": null,
   "metadata": {},
   "outputs": [],
   "source": [
    "from sklearn.preprocessing import StandardScaler, MinMaxScaler\n",
    "\n",
    "# Standardize numerical features\n",
    "scaler = StandardScaler()\n",
    "df[['Feature1', 'Feature2']] = scaler.fit_transform(df[['Feature1', 'Feature2']])\n",
    "\n",
    "# Normalize numerical features\n",
    "minmax_scaler = MinMaxScaler()\n",
    "df[['Feature1', 'Feature2']] = minmax_scaler.fit_transform(df[['Feature1', 'Feature2']])\n"
   ]
  },
  {
   "cell_type": "markdown",
   "metadata": {},
   "source": [
    "14. Handling Imbalanced Classes in Machine Learning\n"
   ]
  },
  {
   "cell_type": "code",
   "execution_count": null,
   "metadata": {},
   "outputs": [],
   "source": [
    "from imblearn.over_sampling import SMOTE\n",
    "from sklearn.model_selection import train_test_split\n",
    "\n",
    "# Handling imbalanced classes using SMOTE\n",
    "X_resampled, y_resampled = SMOTE().fit_resample(X, y)\n",
    "\n",
    "# Splitting resampled data\n",
    "X_train_resampled, X_test_resampled, y_train_resampled, y_test_resampled = train_test_split(\n",
    "    X_resampled, y_resampled, test_size=0.2, random_state=42\n",
    ")\n"
   ]
  },
  {
   "cell_type": "markdown",
   "metadata": {},
   "source": [
    "15. Interactive Data Exploration with Plotly Dash\n"
   ]
  },
  {
   "cell_type": "code",
   "execution_count": null,
   "metadata": {},
   "outputs": [],
   "source": [
    "import dash\n",
    "import dash_core_components as dcc\n",
    "import dash_html_components as html\n",
    "\n",
    "# Dash application example\n",
    "app = dash.Dash(__name__)\n",
    "\n",
    "app.layout = html.Div(children=[\n",
    "    html.H1(children='Interactive Data Exploration'),\n",
    "\n",
    "    dcc.Graph(\n",
    "        id='scatter-plot',\n",
    "        figure={\n",
    "            'data': [\n",
    "                {'x': df['Age'], 'y': df['City'], 'type': 'scatter', 'mode': 'markers'}\n",
    "            ],\n",
    "            'layout': {\n",
    "                'title': 'Interactive Scatter Plot'\n",
    "            }\n",
    "        }\n",
    "    )\n",
    "])\n",
    "\n",
    "if __name__ == '__main__':\n",
    "    app.run_server(debug=True)\n"
   ]
  },
  {
   "cell_type": "markdown",
   "metadata": {},
   "source": [
    "16. Advanced Machine Learning Topics\n"
   ]
  },
  {
   "cell_type": "code",
   "execution_count": null,
   "metadata": {},
   "outputs": [],
   "source": [
    "from sklearn.ensemble import RandomForestClassifier\n",
    "from sklearn.model_selection import GridSearchCV\n",
    "\n",
    "# Hyperparameter tuning with GridSearchCV\n",
    "param_grid = {'n_estimators': [50, 100, 150], 'max_depth': [None, 10, 20]}\n",
    "grid_search = GridSearchCV(RandomForestClassifier(), param_grid, cv=5)\n",
    "grid_search.fit(X_train, y_train)\n",
    "best_params = grid_search.best_params_\n"
   ]
  },
  {
   "cell_type": "markdown",
   "metadata": {},
   "source": [
    "17. Web Scraping with BeautifulSoup and Requests\n"
   ]
  },
  {
   "cell_type": "code",
   "execution_count": null,
   "metadata": {},
   "outputs": [],
   "source": [
    "import requests\n",
    "from bs4 import BeautifulSoup\n",
    "\n",
    "# Scraping a website\n",
    "url = 'https://example.com'\n",
    "response = requests.get(url)\n",
    "soup = BeautifulSoup(response.text, 'html.parser')\n"
   ]
  },
  {
   "cell_type": "markdown",
   "metadata": {},
   "source": [
    "18. Working with APIs\n"
   ]
  },
  {
   "cell_type": "code",
   "execution_count": null,
   "metadata": {},
   "outputs": [],
   "source": [
    "import requests\n",
    "\n",
    "# Making an API request\n",
    "api_url = 'https://api.example.com/data'\n",
    "response = requests.get(api_url)\n",
    "data = response.json()\n"
   ]
  },
  {
   "cell_type": "markdown",
   "metadata": {},
   "source": [
    "19. Regular Expressions\n"
   ]
  },
  {
   "cell_type": "code",
   "execution_count": null,
   "metadata": {},
   "outputs": [],
   "source": [
    "import re\n",
    "\n",
    "# Using regular expressions\n",
    "pattern = r'\\b\\d{3}-\\d{2}-\\d{4}\\b'  # Example: Social Security Number\n",
    "text = '123-45-6789'\n",
    "match = re.match(pattern, text)\n"
   ]
  },
  {
   "cell_type": "markdown",
   "metadata": {},
   "source": [
    "20. Data Serialization (JSON, Pickle)\n"
   ]
  },
  {
   "cell_type": "code",
   "execution_count": null,
   "metadata": {},
   "outputs": [],
   "source": [
    "import json\n",
    "import pickle\n",
    "\n",
    "# Serialize data to JSON\n",
    "json_data = json.dumps({'key': 'value'})\n",
    "\n",
    "# Serialize data using Pickle\n",
    "pickle_data = pickle.dumps({'key': 'value'})\n"
   ]
  },
  {
   "cell_type": "markdown",
   "metadata": {},
   "source": [
    "# R Basics and Data Science Snippets\n",
    "The following sections cover fundamental R concepts and practical examples for data manipulation, visualization, and statistical analysis.\n",
    "\n",
    "## Table of Contents\n",
    "\n",
    "1. [Introduction to R](#introduction-to-r)\n",
    "2. [Basic Data Manipulation with `dplyr`](#basic-data-manipulation-with-dplyr)\n",
    "3. [Data Visualization with `ggplot2`](#data-visualization-with-ggplot2)\n",
    "4. [Loading and Handling Dates with `lubridate`](#loading-and-handling-dates-with-lubridate)\n",
    "5. [Statistical Analysis with `stats`](#statistical-analysis-with-stats)\n",
    "6. [Machine Learning with `caret`](#machine-learning-with-caret)\n",
    "7. [Working with Large Datasets using `data.table`](#working-with-large-datasets-using-data.table)\n"
   ]
  },
  {
   "cell_type": "markdown",
   "metadata": {},
   "source": [
    "1. Basic Data Manipulation with dplyr"
   ]
  },
  {
   "cell_type": "code",
   "execution_count": null,
   "metadata": {},
   "outputs": [],
   "source": [
    "# Installing and loading the dplyr package\n",
    "install.packages(\"dplyr\")\n",
    "library(dplyr)\n",
    "\n",
    "# Creating a data frame\n",
    "df <- data.frame(\n",
    "  Name = c(\"Alice\", \"Bob\", \"Charlie\"),\n",
    "  Age = c(25, 30, 35),\n",
    "  City = c(\"New York\", \"San Francisco\", \"Los Angeles\")\n",
    ")\n",
    "\n",
    "# Displaying the data frame\n",
    "print(df)\n",
    "\n",
    "# Selecting columns\n",
    "selected_cols <- select(df, Name, Age)\n",
    "\n",
    "# Filtering data\n",
    "filtered_data <- filter(df, Age > 30)\n",
    "\n",
    "# Grouping data\n",
    "grouped_data <- df %>% group_by(City) %>% summarise(mean_age = mean(Age))\n"
   ]
  },
  {
   "cell_type": "markdown",
   "metadata": {},
   "source": [
    "2. Data Visualization with ggplot2"
   ]
  },
  {
   "cell_type": "markdown",
   "metadata": {},
   "source": [
    "# Installing and loading the ggplot2 package\n",
    "install.packages(\"ggplot2\")\n",
    "library(ggplot2)\n",
    "\n",
    "# Creating a scatter plot\n",
    "ggplot(df, aes(x = Age, y = City, color = Name, size = Age)) +\n",
    "  geom_point() +\n",
    "  labs(title = \"Scatter Plot with ggplot2\")\n",
    "\n",
    "# Creating a bar plot\n",
    "ggplot(df, aes(x = City, fill = Name)) +\n",
    "  geom_bar() +\n",
    "  labs(title = \"Bar Plot with ggplot2\")\n"
   ]
  },
  {
   "cell_type": "markdown",
   "metadata": {},
   "source": [
    "3. Loading and Handling Dates with lubridate"
   ]
  },
  {
   "cell_type": "markdown",
   "metadata": {},
   "source": [
    "# Installing and loading the lubridate package\n",
    "install.packages(\"lubridate\")\n",
    "library(lubridate)\n",
    "\n",
    "# Creating a Date object\n",
    "date <- ymd(\"2023-01-01\")\n",
    "\n",
    "# Extracting components of a date\n",
    "year_val <- year(date)\n",
    "month_val <- month(date)\n",
    "day_val <- day(date)\n"
   ]
  },
  {
   "cell_type": "markdown",
   "metadata": {},
   "source": [
    "4. Statistical Analysis with stats"
   ]
  },
  {
   "cell_type": "markdown",
   "metadata": {},
   "source": [
    "# Performing a t-test\n",
    "group_a <- c(23, 25, 28, 30, 32)\n",
    "group_b <- c(19, 20, 22, 24, 25)\n",
    "t_test_result <- t.test(group_a, group_b)\n",
    "print(t_test_result)\n"
   ]
  },
  {
   "cell_type": "markdown",
   "metadata": {},
   "source": [
    "5. Machine Learning with caret"
   ]
  },
  {
   "cell_type": "markdown",
   "metadata": {},
   "source": [
    "# Installing and loading the caret package\n",
    "install.packages(\"caret\")\n",
    "library(caret)\n",
    "\n",
    "# Splitting data into training and testing sets\n",
    "set.seed(123)\n",
    "split_index <- createDataPartition(df$Age, p = 0.8, list = FALSE)\n",
    "train_data <- df[split_index, ]\n",
    "test_data <- df[-split_index, ]\n",
    "\n",
    "# Training a linear regression model\n",
    "model <- train(Age ~ ., data = train_data, method = \"lm\")\n",
    "\n",
    "# Making predictions\n",
    "predictions <- predict(model, newdata = test_data)\n"
   ]
  },
  {
   "cell_type": "markdown",
   "metadata": {},
   "source": [
    "6. Working with Large Datasets using data.table"
   ]
  },
  {
   "cell_type": "markdown",
   "metadata": {},
   "source": [
    "# Installing and loading the data.table package\n",
    "install.packages(\"data.table\")\n",
    "library(data.table)\n",
    "\n",
    "# Creating a data.table\n",
    "dt <- data.table(df)\n",
    "\n",
    "# Filtering and grouping with data.table\n",
    "filtered_dt <- dt[Age > 30]\n",
    "grouped_dt <- dt[, .(mean_age = mean(Age)), by = City]\n"
   ]
  },
  {
   "cell_type": "markdown",
   "metadata": {},
   "source": [
    "# SQL for Data Analysis\n",
    "\n",
    "The following includes SQL code snippets commonly used in data analysis tasks.\n",
    "\n",
    "## Table of Contents\n",
    "\n",
    "1. [Connecting to a Database](#connecting-to-a-database)\n",
    "2. [Querying Data](#querying-data)\n",
    "3. [Filtering and Sorting](#filtering-and-sorting)\n",
    "4. [Aggregation](#aggregation)\n",
    "5. [Joining Tables](#joining-tables)\n",
    "6. [Creating a Table](#creating-a-table)\n",
    "7. [Inserting Data into a Table](#inserting-data-into-a-table)\n",
    "8. [Updating Data in a Table](#updating-data-in-a-table)\n",
    "9. [Deleting Data from a Table](#deleting-data-from-a-table)\n",
    "10. [Indexing a Column](#indexing-a-column)\n",
    "11. [Aggregating Data with GROUP BY](#aggregating-data-with-group-by)\n",
    "12. [Subqueries](#subqueries)\n",
    "13. [Case Statements](#case-statements)\n",
    "14. [Window Functions](#window-functions)\n",
    "\n"
   ]
  },
  {
   "cell_type": "markdown",
   "metadata": {},
   "source": [
    "Connecting to a Database"
   ]
  },
  {
   "cell_type": "markdown",
   "metadata": {},
   "source": [
    "Connecting to SQLite Database\n"
   ]
  },
  {
   "cell_type": "code",
   "execution_count": null,
   "metadata": {
    "vscode": {
     "languageId": "sql"
    }
   },
   "outputs": [],
   "source": [
    "-- Connecting to a SQLite database\n",
    "-- Replace 'your_database.db' with the actual SQLite database file path\n",
    "ATTACH DATABASE 'your_database.db' AS db;\n"
   ]
  },
  {
   "cell_type": "markdown",
   "metadata": {},
   "source": [
    "Connecting to MySQL Database\n"
   ]
  },
  {
   "cell_type": "code",
   "execution_count": null,
   "metadata": {
    "vscode": {
     "languageId": "sql"
    }
   },
   "outputs": [],
   "source": [
    "-- Connecting to a MySQL database\n",
    "-- Replace 'your_host', 'your_database', 'your_user', and 'your_password' with your MySQL connection details\n",
    "USE your_database;\n"
   ]
  },
  {
   "cell_type": "markdown",
   "metadata": {},
   "source": [
    "Connecting to PostgreSQL Database\n"
   ]
  },
  {
   "cell_type": "code",
   "execution_count": null,
   "metadata": {
    "vscode": {
     "languageId": "sql"
    }
   },
   "outputs": [],
   "source": [
    "-- Connecting to a PostgreSQL database\n",
    "-- Replace 'your_host', 'your_database', 'your_user', 'your_password', and 'your_port' with your PostgreSQL connection details\n",
    "\\c dbname=your_database user=your_user password=your_password host=your_host port=your_port;\n"
   ]
  },
  {
   "cell_type": "markdown",
   "metadata": {},
   "source": [
    "Connecting to Microsoft SQL Server Database\n"
   ]
  },
  {
   "cell_type": "code",
   "execution_count": null,
   "metadata": {
    "vscode": {
     "languageId": "sql"
    }
   },
   "outputs": [],
   "source": [
    "-- Connecting to a Microsoft SQL Server database\n",
    "-- Replace 'your_server', 'your_database', 'your_user', and 'your_password' with your SQL Server connection details\n",
    "USE your_database;\n"
   ]
  },
  {
   "cell_type": "markdown",
   "metadata": {},
   "source": [
    "Connecting to Oracle Database\n"
   ]
  },
  {
   "cell_type": "code",
   "execution_count": null,
   "metadata": {
    "vscode": {
     "languageId": "sql"
    }
   },
   "outputs": [],
   "source": [
    "-- Connecting to an Oracle database\n",
    "-- Replace 'your_host', 'your_port', 'your_sid', 'your_user', and 'your_password' with your Oracle connection details\n",
    "CONNECT your_user/your_password@//your_host:your_port/your_sid;\n"
   ]
  },
  {
   "cell_type": "markdown",
   "metadata": {},
   "source": [
    "2. Querying Data\n"
   ]
  },
  {
   "cell_type": "code",
   "execution_count": null,
   "metadata": {
    "vscode": {
     "languageId": "sql"
    }
   },
   "outputs": [],
   "source": [
    "-- Selecting all columns from a table\n",
    "SELECT * FROM your_table;\n",
    "\n",
    "-- Selecting specific columns\n",
    "SELECT column1, column2 FROM your_table;\n"
   ]
  },
  {
   "cell_type": "markdown",
   "metadata": {},
   "source": [
    "3. Filtering and Sorting\n"
   ]
  },
  {
   "cell_type": "code",
   "execution_count": null,
   "metadata": {
    "vscode": {
     "languageId": "sql"
    }
   },
   "outputs": [],
   "source": [
    "-- Filtering rows based on a condition\n",
    "SELECT * FROM your_table WHERE column1 > 100;\n",
    "\n",
    "-- Sorting rows in ascending order\n",
    "SELECT * FROM your_table ORDER BY column1 ASC;\n"
   ]
  },
  {
   "cell_type": "markdown",
   "metadata": {},
   "source": [
    "4. Aggregation\n"
   ]
  },
  {
   "cell_type": "code",
   "execution_count": null,
   "metadata": {
    "vscode": {
     "languageId": "sql"
    }
   },
   "outputs": [],
   "source": [
    "-- Calculating the average value of a column\n",
    "SELECT AVG(column1) AS average_value FROM your_table;\n",
    "\n",
    "-- Counting the number of rows\n",
    "SELECT COUNT(*) AS row_count FROM your_table;\n"
   ]
  },
  {
   "cell_type": "markdown",
   "metadata": {},
   "source": [
    "5. Joining Tables\n"
   ]
  },
  {
   "cell_type": "code",
   "execution_count": null,
   "metadata": {
    "vscode": {
     "languageId": "sql"
    }
   },
   "outputs": [],
   "source": [
    "-- Inner join\n",
    "SELECT * FROM table1\n",
    "INNER JOIN table2 ON table1.id = table2.id;\n",
    "\n",
    "-- Left join\n",
    "SELECT * FROM table1\n",
    "LEFT JOIN table2 ON table1.id = table2.id;\n"
   ]
  },
  {
   "cell_type": "markdown",
   "metadata": {},
   "source": [
    "6. Creating a Table\n"
   ]
  },
  {
   "cell_type": "code",
   "execution_count": null,
   "metadata": {
    "vscode": {
     "languageId": "sql"
    }
   },
   "outputs": [],
   "source": [
    "-- Creating a table\n",
    "CREATE TABLE your_table (\n",
    "    column1 INT,\n",
    "    column2 VARCHAR(255),\n",
    "    column3 DATE\n",
    ");\n"
   ]
  },
  {
   "cell_type": "markdown",
   "metadata": {},
   "source": [
    "7. Inserting Data into a Table\n"
   ]
  },
  {
   "cell_type": "code",
   "execution_count": null,
   "metadata": {
    "vscode": {
     "languageId": "sql"
    }
   },
   "outputs": [],
   "source": [
    "-- Inserting data into a table\n",
    "INSERT INTO your_table (column1, column2, column3)\n",
    "VALUES (1, 'John Doe', '2023-01-01');\n"
   ]
  },
  {
   "cell_type": "markdown",
   "metadata": {},
   "source": [
    "8. Updating Data in a Table\n"
   ]
  },
  {
   "cell_type": "code",
   "execution_count": null,
   "metadata": {
    "vscode": {
     "languageId": "sql"
    }
   },
   "outputs": [],
   "source": [
    "-- Updating data in a table\n",
    "UPDATE your_table\n",
    "SET column2 = 'Jane Doe'\n",
    "WHERE column1 = 1;\n"
   ]
  },
  {
   "cell_type": "markdown",
   "metadata": {},
   "source": [
    "9. Deleting Data from a Table\n"
   ]
  },
  {
   "cell_type": "code",
   "execution_count": null,
   "metadata": {
    "vscode": {
     "languageId": "sql"
    }
   },
   "outputs": [],
   "source": [
    "-- Deleting data from a table\n",
    "DELETE FROM your_table\n",
    "WHERE column1 = 1;\n"
   ]
  },
  {
   "cell_type": "markdown",
   "metadata": {},
   "source": [
    "10. Indexing a Column\n"
   ]
  },
  {
   "cell_type": "code",
   "execution_count": null,
   "metadata": {
    "vscode": {
     "languageId": "sql"
    }
   },
   "outputs": [],
   "source": [
    "-- Creating an index on a column\n",
    "CREATE INDEX idx_column1 ON your_table (column1);\n"
   ]
  },
  {
   "cell_type": "markdown",
   "metadata": {},
   "source": [
    "11. Aggregating Data with GROUP BY\n"
   ]
  },
  {
   "cell_type": "code",
   "execution_count": null,
   "metadata": {
    "vscode": {
     "languageId": "sql"
    }
   },
   "outputs": [],
   "source": [
    "-- Aggregating data with GROUP BY\n",
    "SELECT column1, COUNT(*) as count\n",
    "FROM your_table\n",
    "GROUP BY column1;\n"
   ]
  },
  {
   "cell_type": "markdown",
   "metadata": {},
   "source": [
    "12. Subqueries\n"
   ]
  },
  {
   "cell_type": "code",
   "execution_count": null,
   "metadata": {
    "vscode": {
     "languageId": "sql"
    }
   },
   "outputs": [],
   "source": [
    "-- Using subqueries\n",
    "SELECT column1\n",
    "FROM your_table\n",
    "WHERE column2 IN (SELECT column2 FROM other_table WHERE condition);\n"
   ]
  },
  {
   "cell_type": "markdown",
   "metadata": {},
   "source": [
    "13. Case Statements\n"
   ]
  },
  {
   "cell_type": "code",
   "execution_count": null,
   "metadata": {
    "vscode": {
     "languageId": "sql"
    }
   },
   "outputs": [],
   "source": [
    "-- Using CASE statements\n",
    "SELECT column1,\n",
    "       CASE\n",
    "           WHEN column1 > 10 THEN 'High'\n",
    "           WHEN column1 > 5 THEN 'Medium'\n",
    "           ELSE 'Low'\n",
    "       END as priority\n",
    "FROM your_table;\n"
   ]
  },
  {
   "cell_type": "markdown",
   "metadata": {},
   "source": [
    "14. Window Functions\n"
   ]
  },
  {
   "cell_type": "code",
   "execution_count": null,
   "metadata": {
    "vscode": {
     "languageId": "sql"
    }
   },
   "outputs": [],
   "source": [
    "-- Using window functions (example: calculating row numbers)\n",
    "SELECT column1,\n",
    "       ROW_NUMBER() OVER (ORDER BY column1) as row_number\n",
    "FROM your_table;\n"
   ]
  },
  {
   "cell_type": "markdown",
   "metadata": {},
   "source": [
    "# Javascript"
   ]
  },
  {
   "cell_type": "markdown",
   "metadata": {},
   "source": [
    "1. Variables and Data Types"
   ]
  },
  {
   "cell_type": "code",
   "execution_count": null,
   "metadata": {
    "vscode": {
     "languageId": "javascript"
    }
   },
   "outputs": [],
   "source": [
    "// Variables and Data Types\n",
    "let variableName = 'Hello, World!';\n",
    "const constantValue = 42;\n",
    "var olderWayToDeclareVariable = true;\n",
    "\n",
    "// Data types\n",
    "let numberValue = 123;\n",
    "let stringValue = 'abc';\n",
    "let booleanValue = true;\n",
    "let arrayValue = [1, 2, 3];\n",
    "let objectValue = { key: 'value' };\n"
   ]
  },
  {
   "cell_type": "markdown",
   "metadata": {},
   "source": [
    "2. Control Flow - if-else Statement\n"
   ]
  },
  {
   "cell_type": "code",
   "execution_count": null,
   "metadata": {
    "vscode": {
     "languageId": "javascript"
    }
   },
   "outputs": [],
   "source": [
    "// Control Flow - if-else Statement\n",
    "let condition = true;\n",
    "\n",
    "if (condition) {\n",
    "  console.log('Condition is true');\n",
    "} else {\n",
    "  console.log('Condition is false');\n",
    "}\n"
   ]
  },
  {
   "cell_type": "markdown",
   "metadata": {},
   "source": [
    "3. Loops - for and while\n"
   ]
  },
  {
   "cell_type": "code",
   "execution_count": null,
   "metadata": {
    "vscode": {
     "languageId": "javascript"
    }
   },
   "outputs": [],
   "source": [
    "// Loops - for Loop\n",
    "for (let i = 0; i < 5; i++) {\n",
    "    console.log(`Iteration ${i}`);\n",
    "  }\n",
    "  \n",
    "  // Loops - while Loop\n",
    "  let counter = 0;\n",
    "  while (counter < 3) {\n",
    "    console.log(`Count: ${counter}`);\n",
    "    counter++;\n",
    "  }\n",
    "  "
   ]
  },
  {
   "cell_type": "markdown",
   "metadata": {},
   "source": [
    "4. Functions\n"
   ]
  },
  {
   "cell_type": "code",
   "execution_count": null,
   "metadata": {
    "vscode": {
     "languageId": "javascript"
    }
   },
   "outputs": [],
   "source": [
    "// Functions\n",
    "function greet(name) {\n",
    "    return `Hello, ${name}!`;\n",
    "  }\n",
    "  \n",
    "  let greeting = greet('John');\n",
    "  console.log(greeting);\n",
    "  "
   ]
  },
  {
   "cell_type": "markdown",
   "metadata": {},
   "source": [
    "5. Arrays - Map and Filter\n"
   ]
  },
  {
   "cell_type": "code",
   "execution_count": null,
   "metadata": {
    "vscode": {
     "languageId": "javascript"
    }
   },
   "outputs": [],
   "source": [
    "// Arrays - Map\n",
    "let numbers = [1, 2, 3, 4, 5];\n",
    "let squared = numbers.map(num => num * num);\n",
    "console.log(squared);\n",
    "\n",
    "// Arrays - Filter\n",
    "let evenNumbers = numbers.filter(num => num % 2 === 0);\n",
    "console.log(evenNumbers);\n"
   ]
  },
  {
   "cell_type": "markdown",
   "metadata": {},
   "source": [
    "6. Objects\n"
   ]
  },
  {
   "cell_type": "code",
   "execution_count": null,
   "metadata": {
    "vscode": {
     "languageId": "javascript"
    }
   },
   "outputs": [],
   "source": [
    "// Objects\n",
    "let person = {\n",
    "    name: 'Alice',\n",
    "    age: 30,\n",
    "    profession: 'Engineer',\n",
    "  };\n",
    "  \n",
    "  console.log(person.name); // Accessing object property\n",
    "  "
   ]
  },
  {
   "cell_type": "markdown",
   "metadata": {},
   "source": [
    "7. Asynchronous JavaScript - Promises\n"
   ]
  },
  {
   "cell_type": "code",
   "execution_count": null,
   "metadata": {
    "vscode": {
     "languageId": "javascript"
    }
   },
   "outputs": [],
   "source": [
    "// Asynchronous JavaScript - Promises\n",
    "function fetchData() {\n",
    "    return new Promise((resolve, reject) => {\n",
    "      // Simulating asynchronous operation\n",
    "      setTimeout(() => {\n",
    "        let data = 'Async data';\n",
    "        resolve(data);\n",
    "      }, 2000);\n",
    "    });\n",
    "  }\n",
    "  \n",
    "  fetchData()\n",
    "    .then(result => console.log(result))\n",
    "    .catch(error => console.error(error));\n",
    "  "
   ]
  },
  {
   "cell_type": "markdown",
   "metadata": {},
   "source": [
    "8. JSON Parsing\n"
   ]
  },
  {
   "cell_type": "code",
   "execution_count": null,
   "metadata": {
    "vscode": {
     "languageId": "javascript"
    }
   },
   "outputs": [],
   "source": [
    "// JSON Parsing\n",
    "let jsonString = '{\"name\": \"Bob\", \"age\": 25}';\n",
    "let parsedObject = JSON.parse(jsonString);\n",
    "console.log(parsedObject.name); // Output: Bob\n"
   ]
  },
  {
   "cell_type": "markdown",
   "metadata": {},
   "source": [
    "9. Error Handling with Try...Catch\n"
   ]
  },
  {
   "cell_type": "code",
   "execution_count": null,
   "metadata": {
    "vscode": {
     "languageId": "javascript"
    }
   },
   "outputs": [],
   "source": [
    "// Error Handling with Try...Catch\n",
    "try {\n",
    "    // Code that might throw an error\n",
    "    throw new Error('Something went wrong');\n",
    "  } catch (error) {\n",
    "    console.error(error.message);\n",
    "  }\n",
    "  "
   ]
  }
 ],
 "metadata": {
  "language_info": {
   "name": "python"
  }
 },
 "nbformat": 4,
 "nbformat_minor": 2
}
